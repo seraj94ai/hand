{
  "nbformat": 4,
  "nbformat_minor": 0,
  "metadata": {
    "colab": {
      "name": "hand.ipynb",
      "version": "0.3.2",
      "provenance": [],
      "collapsed_sections": [],
      "include_colab_link": true
    },
    "kernelspec": {
      "name": "python3",
      "display_name": "Python 3"
    }
  },
  "cells": [
    {
      "cell_type": "markdown",
      "metadata": {
        "id": "view-in-github",
        "colab_type": "text"
      },
      "source": [
        "<a href=\"https://colab.research.google.com/github/seraj94ai/hand/blob/master/arabic_deaf_hand_recognition.ipynb\" target=\"_parent\"><img src=\"https://colab.research.google.com/assets/colab-badge.svg\" alt=\"Open In Colab\"/></a>"
      ]
    },
    {
      "metadata": {
        "id": "liq9sswMBtdM",
        "colab_type": "code",
        "colab": {
          "base_uri": "https://localhost:8080/",
          "height": 136
        },
        "outputId": "1e625b18-8cf5-461f-efe3-c764de329530"
      },
      "cell_type": "code",
      "source": [
        "!rm -fR hand\n",
        "!git clone https://github.com/seraj94ai/hand"
      ],
      "execution_count": 2,
      "outputs": [
        {
          "output_type": "stream",
          "text": [
            "Cloning into 'hand'...\n",
            "remote: Enumerating objects: 575, done.\u001b[K\n",
            "remote: Counting objects: 100% (575/575), done.\u001b[K\n",
            "remote: Compressing objects: 100% (570/570), done.\u001b[K\n",
            "remote: Total 575 (delta 5), reused 575 (delta 5), pack-reused 0\u001b[K\n",
            "Receiving objects: 100% (575/575), 8.53 MiB | 16.12 MiB/s, done.\n",
            "Resolving deltas: 100% (5/5), done.\n"
          ],
          "name": "stdout"
        }
      ]
    },
    {
      "metadata": {
        "id": "AgEIymJTB3eE",
        "colab_type": "code",
        "colab": {
          "base_uri": "https://localhost:8080/",
          "height": 34
        },
        "outputId": "40710328-8ea6-4526-c72d-1afbd4c1f11c"
      },
      "cell_type": "code",
      "source": [
        "# Importing the Keras libraries and packages\n",
        "from keras.models import Sequential # initialize NN\n",
        "from keras.layers import Convolution2D # convolutional step\n",
        "from keras.layers import MaxPooling2D\n",
        "from keras.layers import Flatten  \n",
        "from keras.layers import Dropout, Dense, Activation\n",
        "from keras.preprocessing.image import ImageDataGenerator\n",
        "from keras import optimizers\n",
        "from keras.optimizers import Adam"
      ],
      "execution_count": 3,
      "outputs": [
        {
          "output_type": "stream",
          "text": [
            "Using TensorFlow backend.\n"
          ],
          "name": "stderr"
        }
      ]
    },
    {
      "metadata": {
        "id": "OfDfqsijB6fj",
        "colab_type": "code",
        "colab": {}
      },
      "cell_type": "code",
      "source": [
        "nb_filters1 = 32\n",
        "nb_filters2 = 64\n",
        "conv1_size = 3\n",
        "conv2_size = 2\n",
        "pool_size = 2\n",
        "classes_num = 5\n",
        "lr = 0.0004\n",
        "input_shape = (64, 64, 3)"
      ],
      "execution_count": 0,
      "outputs": []
    },
    {
      "metadata": {
        "id": "F8XwzyUFB9zC",
        "colab_type": "code",
        "colab": {}
      },
      "cell_type": "code",
      "source": [
        "img_generator = ImageDataGenerator(rotation_range=2, width_shift_range=0.01,\n",
        "                                   height_shift_range=0.01, shear_range=0.02,\n",
        "                                   zoom_range=0.03, channel_shift_range=4.,\n",
        "                                   horizontal_flip=True, vertical_flip=True,\n",
        "                                   fill_mode='nearest')"
      ],
      "execution_count": 0,
      "outputs": []
    },
    {
      "metadata": {
        "id": "ESdSmhyQCAS0",
        "colab_type": "code",
        "colab": {
          "base_uri": "https://localhost:8080/",
          "height": 68
        },
        "outputId": "d41b6793-0d39-4ff5-af29-2199a3152326"
      },
      "cell_type": "code",
      "source": [
        "training_set = img_generator.flow_from_directory('./hand/train',\n",
        "                                                 target_size = (64, 64),\n",
        "                                                 batch_size = 32,\n",
        "                                                 class_mode = 'categorical')\n",
        "\n",
        "test_datagen = ImageDataGenerator(rescale = 1./255)\n",
        "\n",
        "test_set = img_generator.flow_from_directory('./hand/test', # working directory folder\n",
        "                                            target_size = (64, 64), #expected size of image in cnn modle //sizing imae to 64*64\n",
        "                                            batch_size = 32,      # number of images that go throw cnn after which W will be ubdate\n",
        "                                            class_mode = 'categorical') # tow classes cats and dogs\n",
        "\n",
        "training_set.class_indices\n"
      ],
      "execution_count": 6,
      "outputs": [
        {
          "output_type": "stream",
          "text": [
            "Found 409 images belonging to 5 classes.\n",
            "Found 145 images belonging to 5 classes.\n"
          ],
          "name": "stdout"
        },
        {
          "output_type": "execute_result",
          "data": {
            "text/plain": [
              "{'A': 0, 'B': 1, 'J': 2, 'L': 3, 'S': 4}"
            ]
          },
          "metadata": {
            "tags": []
          },
          "execution_count": 6
        }
      ]
    },
    {
      "metadata": {
        "id": "Dyw77M78Ce-7",
        "colab_type": "code",
        "colab": {
          "base_uri": "https://localhost:8080/",
          "height": 241
        },
        "outputId": "921f34f8-7041-4bd1-c555-17d7c22b53cf"
      },
      "cell_type": "code",
      "source": [
        "classifier = Sequential()\n",
        "classifier.add(Convolution2D(nb_filters1, conv1_size, conv1_size, border_mode =\"same\", input_shape = input_shape))\n",
        "classifier.add(Activation(\"relu\"))\n",
        "classifier.add(MaxPooling2D(pool_size=(pool_size, pool_size)))\n",
        "\n",
        "classifier.add(Convolution2D(nb_filters2, conv2_size, conv2_size, border_mode =\"same\"))\n",
        "classifier.add(Activation(\"relu\"))\n",
        "classifier.add(MaxPooling2D(pool_size=(pool_size, pool_size), dim_ordering='th'))\n",
        "\n",
        "classifier.add(Flatten())\n",
        "classifier.add(Dense(128))\n",
        "classifier.add(Activation(\"relu\"))\n",
        "classifier.add(Dropout(0.5))\n",
        "classifier.add(Dense(classes_num, activation='softmax'))\n",
        "\n",
        "classifier.compile(loss='categorical_crossentropy',\n",
        "              optimizer=optimizers.RMSprop(lr=lr),\n",
        "              metrics=['accuracy'])\n"
      ],
      "execution_count": 7,
      "outputs": [
        {
          "output_type": "stream",
          "text": [
            "WARNING:tensorflow:From /usr/local/lib/python3.6/dist-packages/tensorflow/python/framework/op_def_library.py:263: colocate_with (from tensorflow.python.framework.ops) is deprecated and will be removed in a future version.\n",
            "Instructions for updating:\n",
            "Colocations handled automatically by placer.\n"
          ],
          "name": "stdout"
        },
        {
          "output_type": "stream",
          "text": [
            "/usr/local/lib/python3.6/dist-packages/ipykernel_launcher.py:2: UserWarning: Update your `Conv2D` call to the Keras 2 API: `Conv2D(32, (3, 3), input_shape=(607, 611,..., padding=\"same\")`\n",
            "  \n",
            "/usr/local/lib/python3.6/dist-packages/ipykernel_launcher.py:6: UserWarning: Update your `Conv2D` call to the Keras 2 API: `Conv2D(64, (2, 2), padding=\"same\")`\n",
            "  \n",
            "/usr/local/lib/python3.6/dist-packages/ipykernel_launcher.py:8: UserWarning: Update your `MaxPooling2D` call to the Keras 2 API: `MaxPooling2D(pool_size=(2, 2), data_format=\"channels_first\")`\n",
            "  \n"
          ],
          "name": "stderr"
        },
        {
          "output_type": "stream",
          "text": [
            "WARNING:tensorflow:From /usr/local/lib/python3.6/dist-packages/keras/backend/tensorflow_backend.py:3445: calling dropout (from tensorflow.python.ops.nn_ops) with keep_prob is deprecated and will be removed in a future version.\n",
            "Instructions for updating:\n",
            "Please use `rate` instead of `keep_prob`. Rate should be set to `rate = 1 - keep_prob`.\n"
          ],
          "name": "stdout"
        }
      ]
    },
    {
      "metadata": {
        "id": "JFgyD_P2DcK4",
        "colab_type": "code",
        "colab": {
          "base_uri": "https://localhost:8080/",
          "height": 105
        },
        "outputId": "dd65e1d1-67c9-4536-f9a3-a5a7100191cb"
      },
      "cell_type": "code",
      "source": [
        "\n",
        "classifier.fit_generator(training_set,\n",
        "                         steps_per_epoch = 30, # number of images in traning set\n",
        "                         epochs = 2,\n",
        "                         validation_data = test_set,\n",
        "                         validation_steps = 15) # number of images in test set"
      ],
      "execution_count": 0,
      "outputs": [
        {
          "output_type": "stream",
          "text": [
            "WARNING:tensorflow:From /usr/local/lib/python3.6/dist-packages/tensorflow/python/ops/math_ops.py:3066: to_int32 (from tensorflow.python.ops.math_ops) is deprecated and will be removed in a future version.\n",
            "Instructions for updating:\n",
            "Use tf.cast instead.\n",
            "Epoch 1/2\n"
          ],
          "name": "stdout"
        }
      ]
    },
    {
      "metadata": {
        "id": "6VqrKMEzIifp",
        "colab_type": "code",
        "colab": {
          "base_uri": "https://localhost:8080/",
          "height": 1397
        },
        "outputId": "6a6fccd7-17f1-455e-8a4c-899b72664bd4"
      },
      "cell_type": "code",
      "source": [
        "history =model.fit_generator(training_set,\n",
        "                         steps_per_epoch = 30, #// batch_size,\n",
        "                         epochs = 40,\n",
        "                         validation_data = test_set,\n",
        "                         validation_steps = 15) # number of images in test set"
      ],
      "execution_count": 16,
      "outputs": [
        {
          "output_type": "stream",
          "text": [
            "Epoch 1/40\n",
            "30/30 [==============================] - 11s 368ms/step - loss: 0.0211 - acc: 0.9935 - val_loss: 0.0945 - val_acc: 0.9747\n",
            "Epoch 2/40\n",
            "30/30 [==============================] - 10s 346ms/step - loss: 0.0047 - acc: 0.9990 - val_loss: 0.0866 - val_acc: 0.9770\n",
            "Epoch 3/40\n",
            "30/30 [==============================] - 11s 350ms/step - loss: 0.0059 - acc: 0.9990 - val_loss: 0.1323 - val_acc: 0.9678\n",
            "Epoch 4/40\n",
            "30/30 [==============================] - 10s 347ms/step - loss: 0.0054 - acc: 1.0000 - val_loss: 0.1049 - val_acc: 0.9724\n",
            "Epoch 5/40\n",
            "30/30 [==============================] - 10s 341ms/step - loss: 0.0034 - acc: 1.0000 - val_loss: 0.1136 - val_acc: 0.9747\n",
            "Epoch 6/40\n",
            "30/30 [==============================] - 10s 349ms/step - loss: 0.0074 - acc: 0.9979 - val_loss: 0.1058 - val_acc: 0.9540\n",
            "Epoch 7/40\n",
            "30/30 [==============================] - 10s 348ms/step - loss: 0.0060 - acc: 0.9958 - val_loss: 0.0729 - val_acc: 0.9862\n",
            "Epoch 8/40\n",
            "30/30 [==============================] - 10s 343ms/step - loss: 0.0048 - acc: 0.9969 - val_loss: 0.1140 - val_acc: 0.9770\n",
            "Epoch 9/40\n",
            "30/30 [==============================] - 10s 350ms/step - loss: 0.0043 - acc: 1.0000 - val_loss: 0.0932 - val_acc: 0.9770\n",
            "Epoch 10/40\n",
            "30/30 [==============================] - 11s 355ms/step - loss: 0.0026 - acc: 0.9990 - val_loss: 0.0929 - val_acc: 0.9770\n",
            "Epoch 11/40\n",
            "30/30 [==============================] - 10s 347ms/step - loss: 0.0024 - acc: 1.0000 - val_loss: 0.0974 - val_acc: 0.9770\n",
            "Epoch 12/40\n",
            "30/30 [==============================] - 10s 347ms/step - loss: 8.0714e-04 - acc: 1.0000 - val_loss: 0.0581 - val_acc: 0.9839\n",
            "Epoch 13/40\n",
            "30/30 [==============================] - 11s 359ms/step - loss: 0.0011 - acc: 1.0000 - val_loss: 0.1181 - val_acc: 0.9793\n",
            "Epoch 14/40\n",
            "30/30 [==============================] - 11s 352ms/step - loss: 6.2378e-04 - acc: 1.0000 - val_loss: 0.1081 - val_acc: 0.9770\n",
            "Epoch 15/40\n",
            "30/30 [==============================] - 11s 350ms/step - loss: 5.9320e-04 - acc: 1.0000 - val_loss: 0.0701 - val_acc: 0.9839\n",
            "Epoch 16/40\n",
            "30/30 [==============================] - 10s 344ms/step - loss: 4.2285e-04 - acc: 1.0000 - val_loss: 0.0899 - val_acc: 0.9770\n",
            "Epoch 17/40\n",
            "30/30 [==============================] - 10s 347ms/step - loss: 4.7042e-04 - acc: 1.0000 - val_loss: 0.0909 - val_acc: 0.9770\n",
            "Epoch 18/40\n",
            "30/30 [==============================] - 11s 351ms/step - loss: 6.2237e-04 - acc: 1.0000 - val_loss: 0.0852 - val_acc: 0.9747\n",
            "Epoch 19/40\n",
            "30/30 [==============================] - 10s 349ms/step - loss: 4.6597e-04 - acc: 1.0000 - val_loss: 0.0882 - val_acc: 0.9793\n",
            "Epoch 20/40\n",
            "30/30 [==============================] - 10s 349ms/step - loss: 4.8845e-04 - acc: 1.0000 - val_loss: 0.0818 - val_acc: 0.9770\n",
            "Epoch 21/40\n",
            "30/30 [==============================] - 10s 349ms/step - loss: 4.5849e-04 - acc: 1.0000 - val_loss: 0.0369 - val_acc: 0.9839\n",
            "Epoch 22/40\n",
            "30/30 [==============================] - 10s 348ms/step - loss: 2.7210e-04 - acc: 1.0000 - val_loss: 0.0839 - val_acc: 0.9793\n",
            "Epoch 23/40\n",
            "30/30 [==============================] - 11s 353ms/step - loss: 2.6824e-04 - acc: 1.0000 - val_loss: 0.0848 - val_acc: 0.9793\n",
            "Epoch 24/40\n",
            "30/30 [==============================] - 10s 340ms/step - loss: 2.2270e-04 - acc: 1.0000 - val_loss: 0.0801 - val_acc: 0.9793\n",
            "Epoch 25/40\n",
            "30/30 [==============================] - 10s 343ms/step - loss: 1.2805e-04 - acc: 1.0000 - val_loss: 0.0746 - val_acc: 0.9862\n",
            "Epoch 26/40\n",
            "30/30 [==============================] - 11s 355ms/step - loss: 2.6117e-04 - acc: 1.0000 - val_loss: 0.0943 - val_acc: 0.9816\n",
            "Epoch 27/40\n",
            "30/30 [==============================] - 10s 340ms/step - loss: 0.0023 - acc: 0.9987 - val_loss: 0.1232 - val_acc: 0.9747\n",
            "Epoch 28/40\n",
            "30/30 [==============================] - 10s 348ms/step - loss: 0.1676 - acc: 0.9629 - val_loss: 1.1392 - val_acc: 0.8483\n",
            "Epoch 29/40\n",
            "30/30 [==============================] - 10s 346ms/step - loss: 0.4561 - acc: 0.8826 - val_loss: 0.4095 - val_acc: 0.8966\n",
            "Epoch 30/40\n",
            "30/30 [==============================] - 10s 349ms/step - loss: 0.2337 - acc: 0.9473 - val_loss: 0.6558 - val_acc: 0.8276\n",
            "Epoch 31/40\n",
            "30/30 [==============================] - 10s 340ms/step - loss: 0.1421 - acc: 0.9532 - val_loss: 0.1381 - val_acc: 0.9448\n",
            "Epoch 32/40\n",
            "30/30 [==============================] - 11s 351ms/step - loss: 0.0723 - acc: 0.9799 - val_loss: 0.1495 - val_acc: 0.9586\n",
            "Epoch 33/40\n",
            "30/30 [==============================] - 10s 342ms/step - loss: 0.0656 - acc: 0.9762 - val_loss: 0.1063 - val_acc: 0.9563\n",
            "Epoch 34/40\n",
            "30/30 [==============================] - 10s 344ms/step - loss: 0.0847 - acc: 0.9710 - val_loss: 0.3695 - val_acc: 0.9241\n",
            "Epoch 35/40\n",
            "30/30 [==============================] - 10s 347ms/step - loss: 0.1556 - acc: 0.9527 - val_loss: 0.1356 - val_acc: 0.9609\n",
            "Epoch 36/40\n",
            "30/30 [==============================] - 10s 344ms/step - loss: 0.0908 - acc: 0.9726 - val_loss: 0.3199 - val_acc: 0.9195\n",
            "Epoch 37/40\n",
            "30/30 [==============================] - 10s 349ms/step - loss: 0.0537 - acc: 0.9820 - val_loss: 0.1318 - val_acc: 0.9448\n",
            "Epoch 38/40\n",
            "30/30 [==============================] - 11s 351ms/step - loss: 0.0344 - acc: 0.9906 - val_loss: 0.0719 - val_acc: 0.9793\n",
            "Epoch 39/40\n",
            "30/30 [==============================] - 11s 352ms/step - loss: 0.0663 - acc: 0.9788 - val_loss: 0.2225 - val_acc: 0.9540\n",
            "Epoch 40/40\n",
            "30/30 [==============================] - 10s 340ms/step - loss: 0.0229 - acc: 0.9906 - val_loss: 0.1890 - val_acc: 0.9563\n"
          ],
          "name": "stdout"
        }
      ]
    },
    {
      "metadata": {
        "id": "imyIG86BR3l5",
        "colab_type": "code",
        "colab": {
          "base_uri": "https://localhost:8080/",
          "height": 393
        },
        "outputId": "95a94ab8-2598-4f5b-f159-9bf5597dd471"
      },
      "cell_type": "code",
      "source": [
        "import matplotlib.pyplot as plt\n",
        "# list all data in history\n",
        "print(history.history.keys())\n",
        "plt.plot(history.history['loss'])\n",
        "plt.plot(history.history['val_loss'])\n",
        "plt.legend(['training', 'validation'])\n",
        "plt.title('Loss')\n",
        "plt.xlabel('Epoch')\n",
        "plt.legend(['train', 'test'], loc='upper left')\n",
        "plt.show()"
      ],
      "execution_count": 17,
      "outputs": [
        {
          "output_type": "stream",
          "text": [
            "dict_keys(['val_loss', 'val_acc', 'loss', 'acc'])\n"
          ],
          "name": "stdout"
        },
        {
          "output_type": "display_data",
          "data": {
            "image/png": "[encoded data removed]",
            "text/plain": [
              "<Figure size 576x396 with 1 Axes>"
            ]
          },
          "metadata": {
            "tags": []
          }
        }
      ]
    },
    {
      "metadata": {
        "id": "_912FbQnShYT",
        "colab_type": "code",
        "colab": {}
      },
      "cell_type": "code",
      "source": [
        "model.save('model_deaf.h5')\n",
        "from google.colab import files\n",
        "files.download('model_deaf.h5')"
      ],
      "execution_count": 0,
      "outputs": []
    },
    {
      "metadata": {
        "id": "9GBvdDrqojN8",
        "colab_type": "code",
        "colab": {}
      },
      "cell_type": "code",
      "source": [
        "import numpy as np\n",
        "from PIL import Image\n",
        "from keras.preprocessing import image\n",
        "from keras.models import load_model\n",
        "import os\n",
        "import matplotlib.pyplot as plt\n",
        "model = load_model('model_deaf.h5')\n"
      ],
      "execution_count": 0,
      "outputs": []
    },
    {
      "metadata": {
        "id": "X4ImgAKRoOSL",
        "colab_type": "code",
        "colab": {
          "base_uri": "https://localhost:8080/",
          "height": 366
        },
        "outputId": "df260134-066d-40fc-c4d7-a6639ccc3496"
      },
      "cell_type": "code",
      "source": [
        "\n",
        "img = image.load_img('./hand/test/A/A_01.jpg',target_size = (64, 64)) # same target size\n",
        "plt.imshow(img)\n",
        "\n",
        "img = image.img_to_array(img)\n",
        "img = np.expand_dims(img,axis=0)\n",
        "y_pred = model.predict(img)\n",
        "index = np.argmax(y_pred)\n",
        "\n",
        "\n",
        "\n",
        "if index == 0:\n",
        " print(u'أ')   \n",
        "elif index == 1:\n",
        " print(u'ب')  \n",
        "elif index == 2:\n",
        " print(u'ج')   \n",
        "elif index == 3:\n",
        " print(u'ل')   \n",
        "elif index == 4:\n",
        " print(u'س')    \n"
      ],
      "execution_count": 23,
      "outputs": [
        {
          "output_type": "stream",
          "text": [
            "أ\n"
          ],
          "name": "stdout"
        },
        {
          "output_type": "display_data",
          "data": {
            "image/png": "[encoded data removed]",
            "text/plain": [
              "<Figure size 576x396 with 1 Axes>"
            ]
          },
          "metadata": {
            "tags": []
          }
        }
      ]
    }
  ]
}